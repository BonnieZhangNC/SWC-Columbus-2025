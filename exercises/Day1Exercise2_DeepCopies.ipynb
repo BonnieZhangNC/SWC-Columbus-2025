{
  "nbformat": 4,
  "nbformat_minor": 0,
  "metadata": {
    "colab": {
      "provenance": []
    },
    "kernelspec": {
      "name": "python3",
      "display_name": "Python 3"
    },
    "language_info": {
      "name": "python"
    }
  },
  "cells": [
    {
      "cell_type": "markdown",
      "source": [
        "# Day 1 Exercise 2 Deep Copies\n",
        "\n",
        "A student has naively created a copy of a dictionary using a simple assignment,\n",
        "thinking that the copy will be independent of the original.\n",
        "\n",
        "Rewrite the script so it creates a deep copy."
      ],
      "metadata": {
        "id": "8PZ9G0y1TO1z"
      }
    },
    {
      "cell_type": "code",
      "execution_count": null,
      "metadata": {
        "id": "9iqSD2HqSUHb"
      },
      "outputs": [],
      "source": [
        "original_dict = {\n",
        "    \"user1\": {\"name\": \"Alice\", \"score\": 90},\n",
        "    \"user2\": {\"name\": \"Bob\", \"score\": 85}\n",
        "}\n",
        "\n",
        "assigned_dict = original_dict\n",
        "\n",
        "# Modify a nested value in the copy\n",
        "assigned_dict[\"user1\"][\"score\"] = 100\n",
        "\n",
        "print(original_dict)\n",
        "# Output: {'user1': {'name': 'Alice', 'score': 100}, 'user2': {'name': 'Bob', 'score': 85}} (Changed!)\n",
        "\n",
        "print(assigned_dict)\n",
        "# Output: {'user1': {'name': 'Alice', 'score': 100}, 'user2': {'name': 'Bob', 'score': 85}} (Same object)\n"
      ]
    },
    {
      "cell_type": "code",
      "source": [
        "###\n",
        "###\n",
        "### SOLUTION\n",
        "###\n",
        "###\n",
        "\n",
        "import copy\n",
        "\n",
        "original_dict = {\n",
        "    \"user1\": {\"name\": \"Alice\", \"score\": 90},\n",
        "    \"user2\": {\"name\": \"Bob\", \"score\": 85}\n",
        "}\n",
        "\n",
        "deep_copy = copy.deepcopy(original_dict)\n",
        "\n",
        "# Modify a nested value in the copy\n",
        "deep_copy[\"user1\"][\"score\"] = 100\n",
        "\n",
        "print(original_dict)\n",
        "# Output: {'user1': {'name': 'Alice', 'score': 90}, 'user2': {'name': 'Bob', 'score': 85}} (Unchanged)\n",
        "\n",
        "print(deep_copy)\n",
        "# Output: {'user1': {'name': 'Alice', 'score': 100}, 'user2': {'name': 'Bob', 'score': 85}} (Modified)\n"
      ],
      "metadata": {
        "id": "IgIriQbNSW8W"
      },
      "execution_count": null,
      "outputs": []
    }
  ]
}