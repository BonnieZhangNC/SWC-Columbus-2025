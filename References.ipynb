{
  "nbformat": 4,
  "nbformat_minor": 0,
  "metadata": {
    "colab": {
      "provenance": []
    },
    "kernelspec": {
      "name": "python3",
      "display_name": "Python 3"
    },
    "language_info": {
      "name": "python"
    }
  },
  "cells": [
    {
      "cell_type": "code",
      "execution_count": null,
      "metadata": {
        "id": "MAFHBzVBUD_0"
      },
      "outputs": [],
      "source": []
    },
    {
      "cell_type": "markdown",
      "source": [
        "# Secure Software Development Reference List\n",
        "\n",
        "1. Kohnfelder, Loren\n",
        "- Designing Secure Software: A Guide for Developers\n",
        "- 978-1718501928\n",
        "- https://www.amazon.com/Designing-Secure-Software-Guide-Developers/dp/1718501927\n",
        "\n",
        "2. Janca, Tanya\n",
        "- Alice and Bob Learn Secure Coding\n",
        "- 978-1394171705\n",
        "- https://www.amazon.com/Alice-Bob-Learn-Secure-Coding/dp/1394171706\n",
        "\n",
        "3. OWASP Top 10 Proactive Controls\n",
        "- https://top10proactive.owasp.org/\n",
        "\n",
        "4. OWASP Cheat Sheet Series\n",
        "- https://cheatsheetseries.owasp.org/\n",
        "\n",
        "5. Olmsted, Aspen\n",
        "- Security-Driven Software Development\n",
        "- 978-1835462836\n",
        "- https://www.amazon.com/Security-Driven-Software-Development-mitigate-software/dp/1835462839\n",
        "\n"
      ],
      "metadata": {
        "id": "AzWriAHBUFNf"
      }
    }
  ]
}